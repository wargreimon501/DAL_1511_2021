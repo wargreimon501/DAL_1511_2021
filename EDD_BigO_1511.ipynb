{
  "nbformat": 4,
  "nbformat_minor": 0,
  "metadata": {
    "colab": {
      "name": "EDD_BigO_1511.ipynb",
      "provenance": [],
      "authorship_tag": "ABX9TyM7BGRQXfCK2KXq7YMUoQ1r",
      "include_colab_link": true
    },
    "kernelspec": {
      "name": "python3",
      "display_name": "Python 3"
    },
    "language_info": {
      "name": "python"
    }
  },
  "cells": [
    {
      "cell_type": "markdown",
      "metadata": {
        "id": "view-in-github",
        "colab_type": "text"
      },
      "source": [
        "<a href=\"https://colab.research.google.com/github/wargreimon501/DAL_1511_2021/blob/master/EDD_BigO_1511.ipynb\" target=\"_parent\"><img src=\"https://colab.research.google.com/assets/colab-badge.svg\" alt=\"Open In Colab\"/></a>"
      ]
    },
    {
      "cell_type": "markdown",
      "metadata": {
        "id": "6Cf0KdfDEmd-"
      },
      "source": [
        "# Albol binario \n",
        "# arbol binario de busqueda"
      ]
    },
    {
      "cell_type": "code",
      "metadata": {
        "id": "jduuC_1HEpeR"
      },
      "source": [
        "class nodoarbol:\n",
        "  def __init__(self,value,left=None,rigth=None):\n",
        "    self.data=value\n",
        "    self.left=left\n",
        "    self.rigth=rigth\n",
        "class arbolBB:\n",
        "  def __init__(self):\n",
        "    pass"
      ],
      "execution_count": 4,
      "outputs": []
    },
    {
      "cell_type": "code",
      "metadata": {
        "colab": {
          "base_uri": "https://localhost:8080/"
        },
        "id": "lJwvFELrEakT",
        "outputId": "f3ca4b4f-e9f4-458c-b097-fe7f380f04a4"
      },
      "source": [
        "raiz=nodoarbol(60,None,None)\n",
        "raiz.left=nodoarbol(40,None,None)\n",
        "print(raiz.left.data)\n",
        "#progamador ninja\n",
        "raiz=nodoarbol(60,nodoarbol(40),None)\n",
        "print(raiz.left.data)\n",
        "\n",
        "\n",
        "raiz= nodoarbol(60,nodoarbol(40,nodoarbol(30),None),nodoarbol(70))\n",
        "print(raiz.left.left.data)"
      ],
      "execution_count": 7,
      "outputs": [
        {
          "output_type": "stream",
          "name": "stdout",
          "text": [
            "40\n",
            "40\n",
            "30\n"
          ]
        }
      ]
    }
  ]
}