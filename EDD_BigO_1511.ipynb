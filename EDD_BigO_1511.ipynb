{
  "nbformat": 4,
  "nbformat_minor": 0,
  "metadata": {
    "colab": {
      "name": "EDD_BigO_1511.ipynb",
      "provenance": [],
      "authorship_tag": "ABX9TyOyTASuwvFfxxNrL8j85Pca",
      "include_colab_link": true
    },
    "kernelspec": {
      "name": "python3",
      "display_name": "Python 3"
    },
    "language_info": {
      "name": "python"
    }
  },
  "cells": [
    {
      "cell_type": "markdown",
      "metadata": {
        "id": "view-in-github",
        "colab_type": "text"
      },
      "source": [
        "<a href=\"https://colab.research.google.com/github/wargreimon501/DAL_1511_2021/blob/master/EDD_BigO_1511.ipynb\" target=\"_parent\"><img src=\"https://colab.research.google.com/assets/colab-badge.svg\" alt=\"Open In Colab\"/></a>"
      ]
    },
    {
      "cell_type": "markdown",
      "metadata": {
        "id": "6Cf0KdfDEmd-"
      },
      "source": [
        "# Albol binario \n",
        "# arbol binario de busqueda"
      ]
    },
    {
      "cell_type": "code",
      "metadata": {
        "id": "jduuC_1HEpeR"
      },
      "source": [
        "class nodoarbol:\n",
        "  def __init__(self,value,left=None,rigth=None):\n",
        "    self.data=value\n",
        "    self.left=left\n",
        "    self.rigth=rigth\n",
        "class arbolBB:\n",
        "  def __init__(self):\n",
        "    self.__root=None\n",
        "\n",
        "\n",
        "  def insert(self,value):\n",
        "    if self.__root==None:\n",
        "      self.__root=nodoarbol(value)\n",
        "    else:\n",
        "      self.__insert_nodo__(self.__root,value)\n",
        "  def __insert_nodo__(self,nodo,value):\n",
        "    if nodo.data==value:\n",
        "      pass\n",
        "    elif value <nodo.data:\n",
        "      if nodo.left==None:\n",
        "        nodo.left=nodoarbol(value)\n",
        "      else:\n",
        "        self.__insert_nodo__(nodo.left,value)\n",
        "    else:\n",
        "      if nodo.rigth==None:\n",
        "        nodo.rigth=nodoarbol(value)\n",
        "      else:\n",
        "        self.__insert_nodo__(nodo.rigth,value)\n",
        "  #preorden y posorden\n",
        "  def trasversal(self,formato):\n",
        "    if formato ==\"inorden\":\n",
        "      print(\"inorden\")\n",
        "      self.recorrido_in(self.__root)\n",
        "\n",
        "    elif formato== \"preorden\":\n",
        "      print(\"preorden\")\n",
        "      self.recorrido_pre(self.__root)\n",
        "    elif formato==\"posorden\":\n",
        "      print(\"pos orden\")\n",
        "      self.recorrido_pos(self.__root)\n",
        "  def recorrido_in(self,nodo):\n",
        "    if nodo!=None:\n",
        "      self.recorrido_in(nodo.left)\n",
        "      print(nodo.data,end=\"  \")\n",
        "      self.recorrido_in(nodo.rigth)\n",
        "  def recorrido_pre(self,nodo):\n",
        "    if nodo!=None:\n",
        "      print(nodo.data,end=\"  \")\n",
        "      self.recorrido_pre(nodo.left)\n",
        "      self.recorrido_pre(nodo.rigth)\n",
        "  def recorrido_pos(self,nodo):\n",
        "    if nodo!=None:\n",
        "      self.recorrido_pos(nodo.left)\n",
        "      self.recorrido_pos(nodo.rigth)\n",
        "      print(nodo.data,end=\"  \")\n",
        "  def busqueda(self,value):\n",
        "    if self.__root ==None:\n",
        "      print(\"arbol vacio\")\n",
        "      return None\n",
        "    else:\n",
        "      return self.busca_nodo(self.__root,value)\n",
        "  def busca_nodo(self,nodo,value):\n",
        "    if nodo==None:\n",
        "      print(\"no existe\")\n",
        "      return None\n",
        "    elif nodo.data==value:\n",
        "      print(\"encontrado\",nodo.data)\n",
        "      return nodo\n",
        "    elif value <nodo.data:\n",
        "      #print(\"buscar de lado izquierdo\")\n",
        "      return self.busca_nodo(nodo.left,value)\n",
        "    else:\n",
        "      #print(\"buscar de lado derecho\")\n",
        "      return self.busca_nodo(nodo.rigth,value)"
      ],
      "execution_count": 12,
      "outputs": []
    },
    {
      "cell_type": "code",
      "metadata": {
        "colab": {
          "base_uri": "https://localhost:8080/"
        },
        "id": "f4cgKM4MbLc6",
        "outputId": "41aedc7f-07cf-4805-9697-f08407d818be"
      },
      "source": [
        "abb=arbolBB()\n",
        "\"\"\"\n",
        "abb.insert(55)\n",
        "abb.insert(14)\n",
        "abb.insert(27)\n",
        "abb.insert(15)\n",
        "abb.insert(21)\n",
        "abb.insert(80)\n",
        "abb.insert(27)\n",
        "\"\"\"\n",
        "abb.insert(6)\n",
        "abb.insert(3)\n",
        "abb.insert(8)\n",
        "abb.trasversal(\"inorden\")\n",
        "abb.trasversal(\"preorden\")\n",
        "abb.trasversal(\"posorden\")\n",
        "resultado=abb.busqueda(80)\n",
        "print(resultado)"
      ],
      "execution_count": 15,
      "outputs": [
        {
          "output_type": "stream",
          "name": "stdout",
          "text": [
            "inorden\n",
            "3  6  8  preorden\n",
            "6  3  8  pos orden\n",
            "3  8  6  no existe\n",
            "None\n"
          ]
        }
      ]
    },
    {
      "cell_type": "code",
      "metadata": {
        "colab": {
          "base_uri": "https://localhost:8080/"
        },
        "id": "lJwvFELrEakT",
        "outputId": "27574fd5-37f4-4e89-8953-f48c103f7885"
      },
      "source": [
        "raiz=nodoarbol(60,None,None)\n",
        "raiz.left=nodoarbol(40,None,None)\n",
        "print(raiz.left.data)\n",
        "#progamador ninja\n",
        "raiz=nodoarbol(60,nodoarbol(40),None)\n",
        "print(raiz.left.data)\n",
        "\n",
        "\n",
        "raiz= nodoarbol(60,nodoarbol(40,nodoarbol(30),None),nodoarbol(70))\n",
        "print(raiz.left.left.data)\n",
        "#imprimitr el hijo mas a la  izquierdda\n",
        "print(\"imprimir recorrido primero de la rama izquierda \")\n",
        "curr_node=raiz\n",
        "while curr_node.left!=None:\n",
        "  curr_node =curr_node.left\n",
        "print(curr_node.data) "
      ],
      "execution_count": null,
      "outputs": [
        {
          "output_type": "stream",
          "name": "stdout",
          "text": [
            "40\n",
            "40\n",
            "30\n",
            "30\n"
          ]
        }
      ]
    }
  ]
}