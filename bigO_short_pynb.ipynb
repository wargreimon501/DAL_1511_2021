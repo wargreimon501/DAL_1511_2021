{
  "nbformat": 4,
  "nbformat_minor": 0,
  "metadata": {
    "colab": {
      "name": "bigO_short.pynb",
      "provenance": [],
      "authorship_tag": "ABX9TyM8YsGAJh11pPtweYjHqW4a",
      "include_colab_link": true
    },
    "kernelspec": {
      "display_name": "Python 3",
      "name": "python3"
    },
    "language_info": {
      "name": "python"
    }
  },
  "cells": [
    {
      "cell_type": "markdown",
      "metadata": {
        "id": "view-in-github",
        "colab_type": "text"
      },
      "source": [
        "<a href=\"https://colab.research.google.com/github/wargreimon501/DAL_1511_2021/blob/master/bigO_short_pynb.ipynb\" target=\"_parent\"><img src=\"https://colab.research.google.com/assets/colab-badge.svg\" alt=\"Open In Colab\"/></a>"
      ]
    },
    {
      "cell_type": "code",
      "metadata": {
        "colab": {
          "background_save": true
        },
        "id": "CHxD3UmTM-Zt",
        "outputId": "4b52f988-503c-48fc-aaf2-0d7512f1e527"
      },
      "source": [
        "info=[8,5,3,9]# M O(n)    P O(1)\n",
        "def burbuja(data):# M O(n)    P O(1)\n",
        "  n=len(data)# M O(n)    P O(1)\n",
        "  for tope in range(n-1,-1):# M O(n)    P O(1)\n",
        "    for pivote in range(tope):# M O(n)    P O(1)\n",
        "      if data[pivote] > data[pivote+1]:# M O(n)    P O(1)\n",
        "        data[pivote],data[pivote+1]=data[pivote+1],data[pivote]# M O(n)    P O(1)\n",
        "  return data\n",
        "  burbuja(info)"
      ],
      "execution_count": null,
      "outputs": [
        {
          "data": {
            "text/plain": [
              "[8, 5, 3, 9]"
            ]
          },
          "execution_count": null,
          "metadata": {},
          "output_type": "execute_result"
        }
      ]
    },
    {
      "cell_type": "code",
      "metadata": {
        "id": "ibY1rz49HWiP",
        "colab": {
          "base_uri": "https://localhost:8080/"
        },
        "outputId": "34f88152-8d6d-452c-ca30-91e0563d16f6"
      },
      "source": [
        "def selection (data):# M O(n)    P O(1)\n",
        "  for pivote in range(len(data)):# M O(1)    P O(na)\n",
        "    min=pivote # M O(1)    P O(1*n)=(n)\n",
        "    for index in range (pivote,len(data),1):# M O(1)    P O(na)\n",
        "      if data[index] < data[min]:# M O(0)    P O(na)\n",
        "        min=index# M O(1)    P O(1 *n *n) =(n*2)\n",
        "    data[pivote],data[min]=data[min],data[pivote]# M O(0)    P O(1*2*n)\n",
        "    print(f\"-->{data}<--\")# M O(0)    P O()\n",
        "  return data# M O(0)    P O(1)\n",
        "# Memoria O(n+1+1)= O(n)\n",
        "#Procesamiento o(n*2)\n",
        "\n",
        "info=[4245,2,14,254,25,4,57435,25,2]\n",
        "print(selection(info))"
      ],
      "execution_count": 4,
      "outputs": [
        {
          "output_type": "stream",
          "name": "stdout",
          "text": [
            "-->[2, 4245, 14, 254, 25, 4, 57435, 25, 2]<--\n",
            "-->[2, 2, 14, 254, 25, 4, 57435, 25, 4245]<--\n",
            "-->[2, 2, 4, 254, 25, 14, 57435, 25, 4245]<--\n",
            "-->[2, 2, 4, 14, 25, 254, 57435, 25, 4245]<--\n",
            "-->[2, 2, 4, 14, 25, 254, 57435, 25, 4245]<--\n",
            "-->[2, 2, 4, 14, 25, 25, 57435, 254, 4245]<--\n",
            "-->[2, 2, 4, 14, 25, 25, 254, 57435, 4245]<--\n",
            "-->[2, 2, 4, 14, 25, 25, 254, 4245, 57435]<--\n",
            "-->[2, 2, 4, 14, 25, 25, 254, 4245, 57435]<--\n",
            "[2, 2, 4, 14, 25, 25, 254, 4245, 57435]\n"
          ]
        }
      ]
    },
    {
      "cell_type": "markdown",
      "metadata": {
        "id": "yh7GNv2kzxzZ"
      },
      "source": [
        "# inserciot_short\n",
        "como cuando juegas cartas"
      ]
    },
    {
      "cell_type": "code",
      "metadata": {
        "colab": {
          "base_uri": "https://localhost:8080/"
        },
        "id": "SI-WEcnhz8vZ",
        "outputId": "123b77bd-bd50-4707-81c6-5d9f277d2b8e"
      },
      "source": [
        "def insertion_short(data):\n",
        "  print(f\"original {data}\")\n",
        "info=[10,51,2,18,4,31,12,5]\n",
        "insertion_short(info)"
      ],
      "execution_count": 5,
      "outputs": [
        {
          "output_type": "stream",
          "name": "stdout",
          "text": [
            "original [10, 51, 2, 18, 4, 31, 12, 5]\n"
          ]
        }
      ]
    }
  ]
}