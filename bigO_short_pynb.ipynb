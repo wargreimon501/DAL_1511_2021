{
  "nbformat": 4,
  "nbformat_minor": 0,
  "metadata": {
    "colab": {
      "name": "bigO_short.pynb",
      "provenance": [],
      "authorship_tag": "ABX9TyMCQUykstiHsw9Yt5joCngt",
      "include_colab_link": true
    },
    "kernelspec": {
      "display_name": "Python 3",
      "name": "python3"
    },
    "language_info": {
      "name": "python"
    }
  },
  "cells": [
    {
      "cell_type": "markdown",
      "metadata": {
        "id": "view-in-github",
        "colab_type": "text"
      },
      "source": [
        "<a href=\"https://colab.research.google.com/github/wargreimon501/DAL_1511_2021/blob/master/bigO_short_pynb.ipynb\" target=\"_parent\"><img src=\"https://colab.research.google.com/assets/colab-badge.svg\" alt=\"Open In Colab\"/></a>"
      ]
    },
    {
      "cell_type": "code",
      "metadata": {
        "colab": {
          "background_save": true
        },
        "id": "CHxD3UmTM-Zt",
        "outputId": "4b52f988-503c-48fc-aaf2-0d7512f1e527"
      },
      "source": [
        "info=[8,5,3,9]# M O(n)    P O(1)\n",
        "def burbuja(data):# M O(n)    P O(1)\n",
        "  n=len(data)# M O(n)    P O(1)\n",
        "  for tope in range(n-1,-1):# M O(n)    P O(1)\n",
        "    for pivote in range(tope):# M O(n)    P O(1)\n",
        "      if data[pivote] > data[pivote+1]:# M O(n)    P O(1)\n",
        "        data[pivote],data[pivote+1]=data[pivote+1],data[pivote]# M O(n)    P O(1)\n",
        "  return data\n",
        "  burbuja(info)"
      ],
      "execution_count": null,
      "outputs": [
        {
          "data": {
            "text/plain": [
              "[8, 5, 3, 9]"
            ]
          },
          "execution_count": null,
          "metadata": {},
          "output_type": "execute_result"
        }
      ]
    },
    {
      "cell_type": "code",
      "metadata": {
        "id": "ibY1rz49HWiP",
        "colab": {
          "base_uri": "https://localhost:8080/"
        },
        "outputId": "34f88152-8d6d-452c-ca30-91e0563d16f6"
      },
      "source": [
        "def selection (data):# M O(n)    P O(1)\n",
        "  for pivote in range(len(data)):# M O(1)    P O(na)\n",
        "    min=pivote # M O(1)    P O(1*n)=(n)\n",
        "    for index in range (pivote,len(data),1):# M O(1)    P O(na)\n",
        "      if data[index] < data[min]:# M O(0)    P O(na)\n",
        "        min=index# M O(1)    P O(1 *n *n) =(n*2)\n",
        "    data[pivote],data[min]=data[min],data[pivote]# M O(0)    P O(1*2*n)\n",
        "    print(f\"-->{data}<--\")# M O(0)    P O()\n",
        "  return data# M O(0)    P O(1)\n",
        "# Memoria O(n+1+1)= O(n)\n",
        "#Procesamiento o(n*2)\n",
        "\n",
        "info=[4245,2,14,254,25,4,57435,25,2]\n",
        "print(selection(info))"
      ],
      "execution_count": null,
      "outputs": [
        {
          "output_type": "stream",
          "name": "stdout",
          "text": [
            "-->[2, 4245, 14, 254, 25, 4, 57435, 25, 2]<--\n",
            "-->[2, 2, 14, 254, 25, 4, 57435, 25, 4245]<--\n",
            "-->[2, 2, 4, 254, 25, 14, 57435, 25, 4245]<--\n",
            "-->[2, 2, 4, 14, 25, 254, 57435, 25, 4245]<--\n",
            "-->[2, 2, 4, 14, 25, 254, 57435, 25, 4245]<--\n",
            "-->[2, 2, 4, 14, 25, 25, 57435, 254, 4245]<--\n",
            "-->[2, 2, 4, 14, 25, 25, 254, 57435, 4245]<--\n",
            "-->[2, 2, 4, 14, 25, 25, 254, 4245, 57435]<--\n",
            "-->[2, 2, 4, 14, 25, 25, 254, 4245, 57435]<--\n",
            "[2, 2, 4, 14, 25, 25, 254, 4245, 57435]\n"
          ]
        }
      ]
    },
    {
      "cell_type": "markdown",
      "metadata": {
        "id": "yh7GNv2kzxzZ"
      },
      "source": [
        "# inserciot_short\n",
        "como cuando juegas cartas"
      ]
    },
    {
      "cell_type": "code",
      "metadata": {
        "colab": {
          "base_uri": "https://localhost:8080/"
        },
        "id": "SI-WEcnhz8vZ",
        "outputId": "fcb7e046-041a-412d-d2fe-b57e01b5cf98"
      },
      "source": [
        "def insertion_short(data): # M O(n)    P   O(1)\n",
        "  print(f\"original {data}\")# M O(0)    P   O(1)\n",
        "  for pivote in range(1,len(data),1):# M O(1)    P   O(na)\n",
        "    for index in range(0,pivote+1,1):# M O(1)    P   O(na)\n",
        "      if data[pivote]<data[index]:# M O(0)    P   O(na)\n",
        "        temp=data[pivote]# M O(1)    P   O(n)\n",
        "        #rexcorrer a la derecha \n",
        "        for i in range(pivote,index,-1):# M O(1)    P   O(na)\n",
        "          data[i]=data[i-1]# M O(0)    P   O(n*m)\n",
        "        data[index]=temp# M O(0)    P   O(n)\n",
        "    print(f\"pocision{pivote}-->{data}>--\")# M O(0)    P   O(1)\n",
        "  return data# M O(0)    P   O(1)\n",
        "\n",
        "  # M O(n+4)    P   O(4+2n+n*m)\n",
        "  # M O(n+4)    P   O(4+2n+n*2) 2 regla\n",
        "  # M O(n)    P   O(n+n*2) 3 regla\n",
        "  # M O(n)    P   O(n+n*) 4 regla\n",
        "  # M O(n)    P   O(n*2) 5 regla\n",
        "info=[10,51,2,18,4,31,12,5]\n",
        "insertion_short(info)"
      ],
      "execution_count": null,
      "outputs": [
        {
          "output_type": "stream",
          "name": "stdout",
          "text": [
            "original [10, 51, 2, 18, 4, 31, 12, 5]\n",
            "pasada1-->[10, 51, 2, 18, 4, 31, 12, 5]>--\n",
            "pasada2-->[2, 10, 51, 18, 4, 31, 12, 5]>--\n",
            "pasada3-->[2, 10, 18, 51, 4, 31, 12, 5]>--\n",
            "pasada4-->[2, 4, 10, 18, 51, 31, 12, 5]>--\n",
            "pasada5-->[2, 4, 10, 18, 31, 51, 12, 5]>--\n",
            "pasada6-->[2, 4, 10, 12, 18, 31, 51, 5]>--\n",
            "pasada7-->[2, 4, 5, 10, 12, 18, 31, 51]>--\n"
          ]
        },
        {
          "output_type": "execute_result",
          "data": {
            "text/plain": [
              "[2, 4, 5, 10, 12, 18, 31, 51]"
            ]
          },
          "metadata": {},
          "execution_count": 4
        }
      ]
    },
    {
      "cell_type": "markdown",
      "metadata": {
        "id": "5fwPJ7-4t0Lo"
      },
      "source": [
        ""
      ]
    },
    {
      "cell_type": "code",
      "metadata": {
        "id": "_nrXT9U0tyat"
      },
      "source": [
        "def mershort(data):\n",
        "  tam=len(data)\n",
        "  #print(f\"recivido: {data}\")\n",
        "  if tam==1:# caso base de recursividad \n",
        "    return data\n",
        "  \n",
        "  mid=tam//2\n",
        "  D=mershort(data[0:mid:1])\n",
        "  I=mershort(data[mid::1])\n",
        "  #print(f\"{I}\\t\\t{D}\")\n",
        "  return merge(I,D)\n",
        "def marge(I,D):\n",
        "  resultado=[]*(len(I)*len(D))\n",
        "  i=0\n",
        "  r=0\n",
        "  d=0\n",
        "  while i<len(I) and d<len(D):\n",
        "    \n"
      ],
      "execution_count": 10,
      "outputs": []
    },
    {
      "cell_type": "code",
      "metadata": {
        "colab": {
          "base_uri": "https://localhost:8080/"
        },
        "id": "qkItpbRnzU1t",
        "outputId": "ed37daea-e214-457b-b4d0-f5979deef2c1"
      },
      "source": [
        "numeros=[10,51,2,18,4,31,12,5]\n",
        "mershort(numeros)"
      ],
      "execution_count": 11,
      "outputs": [
        {
          "output_type": "stream",
          "name": "stdout",
          "text": [
            "recivido: [10, 51, 2, 18, 4, 31, 12, 5]\n",
            "recivido: [10, 51, 2, 18]\n",
            "recivido: [10, 51]\n",
            "recivido: [10]\n",
            "recivido: [51]\n",
            "[51]\t\t[10]\n",
            "recivido: [2, 18]\n",
            "recivido: [2]\n",
            "recivido: [18]\n",
            "[18]\t\t[2]\n",
            "None\t\tNone\n",
            "recivido: [4, 31, 12, 5]\n",
            "recivido: [4, 31]\n",
            "recivido: [4]\n",
            "recivido: [31]\n",
            "[31]\t\t[4]\n",
            "recivido: [12, 5]\n",
            "recivido: [12]\n",
            "recivido: [5]\n",
            "[5]\t\t[12]\n",
            "None\t\tNone\n",
            "None\t\tNone\n"
          ]
        }
      ]
    },
    {
      "cell_type": "code",
      "metadata": {
        "colab": {
          "base_uri": "https://localhost:8080/"
        },
        "id": "6gs5lZjMxkZp",
        "outputId": "db527b2b-ba0d-4322-b520-27154a1c0c0c"
      },
      "source": [
        "frutas=[\"n\",\"m\",\"k\",\"l\",\"a\",\"u\",\"s\"]\n",
        "print(frutas[2:6:1])\n",
        "\n",
        "print(len(frutas))\n",
        "mid=len(frutas)//2\n",
        "print(mid)\n",
        "print(frutas[0:mid:1])\n",
        "print(frutas[mid: :1])"
      ],
      "execution_count": 4,
      "outputs": [
        {
          "output_type": "stream",
          "name": "stdout",
          "text": [
            "['k', 'l', 'a', 'u']\n",
            "7\n",
            "3\n",
            "['n', 'm', 'k']\n",
            "['l', 'a', 'u', 's']\n"
          ]
        }
      ]
    },
    {
      "cell_type": "code",
      "metadata": {
        "colab": {
          "base_uri": "https://localhost:8080/"
        },
        "id": "pwc_ef4D10vy",
        "outputId": "60b5d6e9-c094-40e3-9f03-771f12d2f5de"
      },
      "source": [
        "I = [2,8]\n",
        "D=[3,22]\n",
        "resultado=[0]*(len(I)*len(D))\n",
        "print(resultado)"
      ],
      "execution_count": 14,
      "outputs": [
        {
          "output_type": "stream",
          "name": "stdout",
          "text": [
            "[0, 0, 0, 0]\n"
          ]
        }
      ]
    }
  ]
}