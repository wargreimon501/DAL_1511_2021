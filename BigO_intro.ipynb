{
  "nbformat": 4,
  "nbformat_minor": 0,
  "metadata": {
    "colab": {
      "name": "BigO_intro.ipynb",
      "provenance": [],
      "authorship_tag": "ABX9TyOfMZVjNMzr0jN4AkFsVuae",
      "include_colab_link": true
    },
    "kernelspec": {
      "display_name": "Python 3",
      "name": "python3"
    },
    "language_info": {
      "name": "python"
    }
  },
  "cells": [
    {
      "cell_type": "markdown",
      "metadata": {
        "id": "view-in-github",
        "colab_type": "text"
      },
      "source": [
        "<a href=\"https://colab.research.google.com/github/wargreimon501/DAL_1511_2021/blob/master/BigO_intro.ipynb\" target=\"_parent\"><img src=\"https://colab.research.google.com/assets/colab-badge.svg\" alt=\"Open In Colab\"/></a>"
      ]
    },
    {
      "cell_type": "code",
      "metadata": {
        "id": "H3iDo97AeJD3"
      },
      "source": [
        "def suma(num):\n",
        "    suma = 0\n",
        "    for i in range(num +1 ):\n",
        "        suma += i\n",
        "    print(suma)"
      ],
      "execution_count": null,
      "outputs": []
    },
    {
      "cell_type": "code",
      "metadata": {
        "id": "eJNeb0kwiLhZ"
      },
      "source": [
        ""
      ],
      "execution_count": null,
      "outputs": []
    },
    {
      "cell_type": "code",
      "metadata": {
        "colab": {
          "background_save": true,
          "base_uri": "https://localhost:8080/"
        },
        "id": "IFHhPwbtgIql",
        "outputId": "27b28bbd-bab2-4a39-8d60-07ab782b0d8d"
      },
      "source": [
        "import time\n",
        "time.time()\n",
        "marcal=time.time()\n",
        "n=3\n",
        "suma(n)\n",
        "marcal2=time.time()\n",
        "print(marcal-marcal2)"
      ],
      "execution_count": null,
      "outputs": [
        {
          "name": "stdout",
          "output_type": "stream",
          "text": [
            "6\n",
            "-0.0001423358917236328\n"
          ]
        }
      ]
    },
    {
      "cell_type": "markdown",
      "metadata": {
        "id": "c3ImMMbWevE7"
      },
      "source": [
        ""
      ]
    },
    {
      "cell_type": "code",
      "metadata": {
        "id": "y1AWgig_evcu"
      },
      "source": [
        "def sumaNumeros(n):\n",
        "    if (n == 0):\n",
        "        return 0\n",
        "    else: \n",
        "        return n+sumaNumeros(n-1)"
      ],
      "execution_count": null,
      "outputs": []
    },
    {
      "cell_type": "code",
      "metadata": {
        "colab": {
          "base_uri": "https://localhost:8080/"
        },
        "id": "zRsNEcsmexMM",
        "outputId": "9217bcaf-b39f-4683-ea4b-e4ea89b7f570"
      },
      "source": [
        "n=3\n",
        "sumaNumeros(n)"
      ],
      "execution_count": null,
      "outputs": [
        {
          "data": {
            "text/plain": [
              "6"
            ]
          },
          "execution_count": 2,
          "metadata": {},
          "output_type": "execute_result"
        }
      ]
    },
    {
      "cell_type": "markdown",
      "metadata": {
        "id": "qxpnPhOGiUqB"
      },
      "source": [
        "Texto Probema\n",
        "## ejercicio 3"
      ]
    },
    {
      "cell_type": "code",
      "metadata": {
        "colab": {
          "base_uri": "https://localhost:8080/"
        },
        "id": "W3lBL68ViPLO",
        "outputId": "17dc869d-acda-44b9-d8c9-f85ffa198e7f"
      },
      "source": [
        "numeros = [1,2,3]\n",
        "\n",
        "def unaFuncionCualquiera( lista ):\n",
        "    conteo = 0 # O(1)\n",
        "    for numero1 in lista:\n",
        "        for numero2 in lista:\n",
        "            print(numero1 , numero2 ) # O(n**2)\n",
        "            conteo += 1 # O(n**2)\n",
        "    return conteo\n",
        "# O(1 + 2n**2)\n",
        "# O(n*2)\n",
        "conteo = unaFuncionCualquiera(numeros)\n",
        "\n",
        "print( \"Final:\" , conteo)"
      ],
      "execution_count": null,
      "outputs": [
        {
          "output_type": "stream",
          "name": "stdout",
          "text": [
            "1 1\n",
            "1 2\n",
            "1 3\n",
            "2 1\n",
            "2 2\n",
            "2 3\n",
            "3 1\n",
            "3 2\n",
            "3 3\n",
            "Final: 9\n"
          ]
        }
      ]
    },
    {
      "cell_type": "markdown",
      "metadata": {
        "id": "KnLhGhSRi0fz"
      },
      "source": [
        "# ejercicio 3.1\n",
        "mostrar lo anterios y que haga que sume los resultados de la lista y muestre la suma d los elementos"
      ]
    },
    {
      "cell_type": "code",
      "metadata": {
        "id": "OkLQ-6pzjE8I"
      },
      "source": [
        "numeros = [1,2,3]\n",
        "\n",
        "def unaFuncionCualquiera( lista ):\n",
        "    conteo = 0 #O(1)\n",
        "    suma = 0   #O(1)\n",
        "    for num in lista:\n",
        "        suma += num #O(n)\n",
        "    print(f\"La sumatoria de los numeros en la lista es={ suma } \") #O(1)\n",
        "\n",
        "    for numero1 in lista:\n",
        "        for numero2 in lista:\n",
        "            print(numero1 , numero2 )# O(n**2)\n",
        "            conteo += 1 # O(n**2)\n",
        "    return conteo\n",
        "#O(3 + n+ 2n**2)\n",
        "# O(n*2)\n",
        "conteo = unaFuncionCualquiera(numeros)\n",
        "\n",
        "print( \"Final:\" , conteo)"
      ],
      "execution_count": null,
      "outputs": []
    },
    {
      "cell_type": "markdown",
      "metadata": {
        "id": "oc-wJIUclw57"
      },
      "source": [
        "# Ejemplo 3.2\n",
        "modificar el ejemplo 2 y que las combinaciones sean de dos listas diferentes"
      ]
    },
    {
      "cell_type": "code",
      "metadata": {
        "colab": {
          "base_uri": "https://localhost:8080/"
        },
        "id": "K6jOPH7Dl9vQ",
        "outputId": "2ea98989-fa64-4de3-a754-5ef763401450"
      },
      "source": [
        "numeros = [1,2,3]\n",
        "numeros2 = [4,5,6]\n",
        "def unaFuncionCualquiera( lista,lista2 ):\n",
        "    conteo = 0 # O(1)\n",
        "    for numero1 in lista:\n",
        "        for numero2 in lista2:\n",
        "            print(numero1 , numero2 ) # O(n*m)\n",
        "            conteo += 1 # O(n*m)\n",
        "    return conteo\n",
        "# O(1 + 2((n*m)))\n",
        "# O((n*m))\n",
        "conteo = unaFuncionCualquiera(numeros,numeros2)\n",
        "\n",
        "print( \"Final:\" , conteo)"
      ],
      "execution_count": null,
      "outputs": [
        {
          "output_type": "stream",
          "name": "stdout",
          "text": [
            "1 4\n",
            "1 5\n",
            "1 6\n",
            "2 4\n",
            "2 5\n",
            "2 6\n",
            "3 4\n",
            "3 5\n",
            "3 6\n",
            "Final: 9\n"
          ]
        }
      ]
    },
    {
      "cell_type": "code",
      "metadata": {
        "colab": {
          "base_uri": "https://localhost:8080/"
        },
        "id": "RYA7SfPDyVY_",
        "outputId": "cd50c6bd-ba1b-41eb-bdf4-1f486e52be8d"
      },
      "source": [
        "def busqueda_linial (lista,val_a_buscar):\n",
        "  contador=0 \"O(1)\"\n",
        "  for x in range (len(lista)):\n",
        "    contador +=1 #O(n)\n",
        "    if lista[x]==val_a_buscar:\n",
        "      print(f\"encontrado en la pocision {x}\") #O(1)\n",
        "      break\n",
        "  return contador\n",
        "  #O(1+n+1) --> O(2+n)\n",
        "  #O(n)\n",
        "numeros=[2,3,1,23,24,25,10,100,35,8]\n",
        "comparaciones=busqueda_linial(numeros,10)\n",
        "print(f\"{comparaciones} comparaciones\")"
      ],
      "execution_count": 6,
      "outputs": [
        {
          "output_type": "stream",
          "name": "stdout",
          "text": [
            "encontrado en la pocision 6\n",
            "7 comparaciones\n"
          ]
        }
      ]
    }
  ]
}