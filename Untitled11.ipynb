{
  "nbformat": 4,
  "nbformat_minor": 0,
  "metadata": {
    "colab": {
      "name": "Untitled11.ipynb",
      "provenance": [],
      "authorship_tag": "ABX9TyPCPXfkUQqcU1SY2l9wcBBI",
      "include_colab_link": true
    },
    "kernelspec": {
      "display_name": "Python 3",
      "name": "python3"
    },
    "language_info": {
      "name": "python"
    }
  },
  "cells": [
    {
      "cell_type": "markdown",
      "metadata": {
        "id": "view-in-github",
        "colab_type": "text"
      },
      "source": [
        "<a href=\"https://colab.research.google.com/github/wargreimon501/DAL_1511_2021/blob/master/Untitled11.ipynb\" target=\"_parent\"><img src=\"https://colab.research.google.com/assets/colab-badge.svg\" alt=\"Open In Colab\"/></a>"
      ]
    },
    {
      "cell_type": "code",
      "metadata": {
        "colab": {
          "background_save": true
        },
        "id": "CHxD3UmTM-Zt",
        "outputId": "4b52f988-503c-48fc-aaf2-0d7512f1e527"
      },
      "source": [
        "info=[8,5,3,9]\n",
        "def burbuja(data):\n",
        "  n=len(data)\n",
        "  for tope in range(n-1,-1):\n",
        "    for pivote in range(tope):\n",
        "      if data[pivote] > data[pivote+1]:\n",
        "        data[pivote],data[pivote+1]=data[pivote+1],data[pivote]\n",
        "  return data\n",
        "  burbuja(info)"
      ],
      "execution_count": null,
      "outputs": [
        {
          "data": {
            "text/plain": [
              "[8, 5, 3, 9]"
            ]
          },
          "execution_count": null,
          "metadata": {},
          "output_type": "execute_result"
        }
      ]
    },
    {
      "cell_type": "code",
      "metadata": {
        "id": "ibY1rz49HWiP"
      },
      "source": [
        ""
      ],
      "execution_count": null,
      "outputs": []
    }
  ]
}