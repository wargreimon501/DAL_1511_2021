{
  "nbformat": 4,
  "nbformat_minor": 0,
  "metadata": {
    "colab": {
      "name": "Estrategia.ipynb",
      "provenance": [],
      "authorship_tag": "ABX9TyPuFf0h7t9cUnzdbVuwjduj",
      "include_colab_link": true
    },
    "kernelspec": {
      "name": "python3",
      "display_name": "Python 3"
    },
    "language_info": {
      "name": "python"
    }
  },
  "cells": [
    {
      "cell_type": "markdown",
      "metadata": {
        "id": "view-in-github",
        "colab_type": "text"
      },
      "source": [
        "<a href=\"https://colab.research.google.com/github/wargreimon501/DAL_1511_2021/blob/master/Estrategia.ipynb\" target=\"_parent\"><img src=\"https://colab.research.google.com/assets/colab-badge.svg\" alt=\"Open In Colab\"/></a>"
      ]
    },
    {
      "cell_type": "markdown",
      "metadata": {
        "id": "GCWWC4WoY7Id"
      },
      "source": [
        ""
      ]
    },
    {
      "cell_type": "code",
      "metadata": {
        "id": "AdLRP60ZWDWT"
      },
      "source": [
        "def string_match_brute(A,P):\n",
        "  for i in range(len(A)-len(P)+1):\n",
        "    for j in range(len(P)):\n",
        "      if P[j] == A[i+j]:\n",
        "        pass\n",
        "      else:\n",
        "        break\n",
        "    if j+i == len(P) and A[i+j] == P[j]:\n",
        "      print(f\"se encontro en la pocicion: {i}\")\n",
        "entrada=\"001110010101101101\"\n",
        "patron=\"01101\"\n",
        "string_match_brute(entrada,patron)"
      ],
      "execution_count": null,
      "outputs": []
    },
    {
      "cell_type": "markdown",
      "metadata": {
        "id": "WzjMqNejY5Xu"
      },
      "source": [
        ""
      ]
    }
  ]
}